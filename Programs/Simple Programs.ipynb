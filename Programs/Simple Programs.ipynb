{
 "cells": [
  {
   "cell_type": "code",
   "execution_count": null,
   "id": "e6c303f8",
   "metadata": {},
   "outputs": [],
   "source": [
    "# To determine Pythagorean distance between three "
   ]
  },
  {
   "cell_type": "code",
   "execution_count": null,
   "id": "b26a70fe",
   "metadata": {
    "scrolled": true
   },
   "outputs": [],
   "source": [
    "x,y,z = 2,3,4\n",
    "w =(x**2 + y**2 + z**2)**0.5\n",
    "print(\"Pythagorean distance between three points is\",w)"
   ]
  },
  {
   "cell_type": "code",
   "execution_count": null,
   "id": "b76a4f18",
   "metadata": {},
   "outputs": [],
   "source": []
  },
  {
   "cell_type": "code",
   "execution_count": null,
   "id": "f5461056",
   "metadata": {},
   "outputs": [],
   "source": [
    "# To find LCM of two divisors"
   ]
  },
  {
   "cell_type": "code",
   "execution_count": null,
   "id": "ae0e0830",
   "metadata": {},
   "outputs": [],
   "source": [
    "                                        # 1st method \n",
    "no_1 = int(input(\"Enter first number:\"))\n",
    "no_2 = int(input(\"Enter second number:\"))\n",
    "\n",
    "if (no_1>no_2):\n",
    "    \n",
    "    max = no_1\n",
    "else:\n",
    "    max = no_2\n",
    "while(True):\n",
    "    if((max % no_1 ==0) and (max % no_2 ==0)):\n",
    "        print(\"Lcm is\", max)\n",
    "        break\n",
    "    max +=1"
   ]
  },
  {
   "cell_type": "code",
   "execution_count": null,
   "id": "5f5ef0a1",
   "metadata": {},
   "outputs": [],
   "source": [
    "                                         # 2nd method\n",
    "counting = True                    \n",
    "\n",
    "print(\"Enter first divisor:\")\n",
    "first_divisor = int(input())\n",
    "\n",
    "print(\"Enter second divisor:\")\n",
    "second_divisor = int(input())\n",
    "\n",
    "i = 1\n",
    "\n",
    "while counting:\n",
    "    if i % first_divisor == 0 and i % second_divisor == 0:\n",
    "        print(\"Least Common Multiple of \",first_divisor,\"and \",second_divisor,\" is\",i,\".\")\n",
    "        break\n",
    "    i += 1\n",
    "       "
   ]
  },
  {
   "cell_type": "code",
   "execution_count": null,
   "id": "c6400b5c",
   "metadata": {},
   "outputs": [],
   "source": [
    "                                         # 3rd method using def function\n",
    "def compute_lcm(x,y):\n",
    "    \n",
    "    if x > y:\n",
    "        greater = x\n",
    "    else:\n",
    "        greater = y\n",
    "        \n",
    "    while(True):\n",
    "        if((greater % x==0) and (greater % y ==0)):\n",
    "            lcm = greater\n",
    "            break\n",
    "        greater +=1\n",
    "    return lcm\n",
    "print(\"Enter first number:\")\n",
    "num1 = int(input())\n",
    "print(\"Enter second number:\")\n",
    "num2 = int(input())\n",
    "\n",
    "print(\"The L.C.M. is\", compute_lcm(num1,num2))\n"
   ]
  },
  {
   "cell_type": "code",
   "execution_count": null,
   "id": "cce03efe",
   "metadata": {},
   "outputs": [],
   "source": [
    "\n"
   ]
  },
  {
   "cell_type": "code",
   "execution_count": null,
   "id": "7fbcb94f",
   "metadata": {},
   "outputs": [],
   "source": [
    "# Making a simple calculator"
   ]
  },
  {
   "cell_type": "code",
   "execution_count": null,
   "id": "815804d4",
   "metadata": {},
   "outputs": [],
   "source": [
    "def add(x,y):\n",
    "    return x + y\n",
    "\n",
    "def subtract(x,y):\n",
    "    return x - y\n",
    "\n",
    "def multiply(x,y):\n",
    "    return x * y\n",
    " \n",
    "def divide(x,y):\n",
    "    return x / y\n",
    "\n",
    "print(\"Select operation\")\n",
    "print(\"1. ADD\")\n",
    "print(\"2. SUBTRACT\")\n",
    "print(\"3. MULTIPLY\")\n",
    "print(\"4. DIVIDE\")\n",
    "\n",
    "while (True):\n",
    "    choice = int(input(\"Enter choice 1/2/3/4:\"))\n",
    "    if choice in (1,2,3,4):\n",
    "        number_1 = float(input(\"Enter first number:\"))\n",
    "        number_2 = float(input(\"Enter second number\"))\n",
    "        \n",
    "        if choice == 1:\n",
    "            print(number_1,\"+\",number_2,\"is\",add(number_1,number_2))\n",
    "        elif choice == 2:\n",
    "            print(number_1,\"-\",number_2,\"is\",subtract(number_1,number_2))  \n",
    "        elif choice == 3:\n",
    "            print(number_1,\"*\",number_2,\"is\",multiply(number_1,number_2))\n",
    "        elif choice == 4:\n",
    "            print(number_1,\"/\",number_2,\"is\",divide(number_1,number_2))\n",
    "            \n",
    "        next_calculation = input(\"Want to try another operation? yes/no:\")\n",
    "        if next_calculation == \"no\":\n",
    "            break\n",
    "else:\n",
    "    print(\"Invalid Input\")\n",
    "            "
   ]
  },
  {
   "cell_type": "code",
   "execution_count": null,
   "id": "4ca407eb",
   "metadata": {},
   "outputs": [],
   "source": [
    "\n"
   ]
  },
  {
   "cell_type": "code",
   "execution_count": null,
   "id": "3cb232c0",
   "metadata": {},
   "outputs": [],
   "source": [
    "# To find largest of the three numbers"
   ]
  },
  {
   "cell_type": "code",
   "execution_count": null,
   "id": "ee40e75d",
   "metadata": {},
   "outputs": [],
   "source": [
    "numb_1 = input(\"Enter first number: \")\n",
    "numb_2 = input(\"Enter second number: \")\n",
    "numb_3 = input(\"Enter third number: \")\n",
    "\n",
    "if ((numb_1 >= numb_2) and (numb1 >= numb3)):\n",
    "    largest = numb_1\n",
    "elif((numb_2 >= numb_1) and (numb_2 >= numb_3)):\n",
    "     largest = numb_2\n",
    "else:\n",
    "     largest = numb_3\n",
    "print(\"The largest among the three numbers is\",largest)"
   ]
  },
  {
   "cell_type": "code",
   "execution_count": null,
   "id": "75abbd97",
   "metadata": {},
   "outputs": [],
   "source": []
  },
  {
   "cell_type": "code",
   "execution_count": null,
   "id": "6f53c2ee",
   "metadata": {},
   "outputs": [],
   "source": [
    "# To find area of a triangle"
   ]
  },
  {
   "cell_type": "code",
   "execution_count": null,
   "id": "19e731b7",
   "metadata": {},
   "outputs": [],
   "source": [
    "a = float(input(\"Enter first side: \"))\n",
    "b = float(input(\"Enter second side: \"))\n",
    "c = float(input(\"Enter third side: \"))\n",
    "\n",
    "s = (a+b+c) / 2\n",
    "\n",
    "area = (s*(s-a)*(s-b)*(s-c))**0.5\n",
    "\n",
    "print(\"Area of a scalene triangle is %0.2f\"%area)"
   ]
  },
  {
   "cell_type": "code",
   "execution_count": null,
   "id": "9cb89e86",
   "metadata": {},
   "outputs": [],
   "source": [
    "\n"
   ]
  },
  {
   "cell_type": "code",
   "execution_count": null,
   "id": "8392f8b7",
   "metadata": {},
   "outputs": [],
   "source": [
    "# Degrees and Radians "
   ]
  },
  {
   "cell_type": "code",
   "execution_count": null,
   "id": "5a4c0f40",
   "metadata": {},
   "outputs": [],
   "source": [
    "import math\n",
    "\n",
    "print(math.degrees(math.pi/2))\n",
    "print(math.radians(60))\n"
   ]
  },
  {
   "cell_type": "code",
   "execution_count": null,
   "id": "4ea3a4b9",
   "metadata": {},
   "outputs": [],
   "source": []
  }
 ],
 "metadata": {
  "kernelspec": {
   "display_name": "Python 3",
   "language": "python",
   "name": "python3"
  },
  "language_info": {
   "codemirror_mode": {
    "name": "ipython",
    "version": 3
   },
   "file_extension": ".py",
   "mimetype": "text/x-python",
   "name": "python",
   "nbconvert_exporter": "python",
   "pygments_lexer": "ipython3",
   "version": "3.8.8"
  },
  "toc": {
   "base_numbering": 1,
   "nav_menu": {},
   "number_sections": true,
   "sideBar": true,
   "skip_h1_title": false,
   "title_cell": "Table of Contents",
   "title_sidebar": "Contents",
   "toc_cell": false,
   "toc_position": {},
   "toc_section_display": true,
   "toc_window_display": false
  }
 },
 "nbformat": 4,
 "nbformat_minor": 5
}
