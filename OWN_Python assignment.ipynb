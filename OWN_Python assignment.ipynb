{
 "cells": [
  {
   "cell_type": "markdown",
   "metadata": {},
   "source": [
    "# Python Assignment\n"
   ]
  },
  {
   "cell_type": "markdown",
   "metadata": {},
   "source": [
    "## To convert string 'Light is faster than sound' to 'LIGHT Is Faster Than SOUND'"
   ]
  },
  {
   "cell_type": "code",
   "execution_count": 1,
   "metadata": {},
   "outputs": [
    {
     "name": "stdout",
     "output_type": "stream",
     "text": [
      "LIGHT Is Faster Than Sound\n"
     ]
    }
   ],
   "source": [
    "my_str = \"Light is faster than sound\"\n",
    "l1 = my_str.title()\n",
    "l2 = l1.replace(\"Light\",\"LIGHT\")\n",
    "l3 = l2.replace(\"sound\",\"SOUND\")\n",
    "print(l3)"
   ]
  },
  {
   "cell_type": "markdown",
   "metadata": {},
   "source": [
    "## To check given word is palindrome or not"
   ]
  },
  {
   "cell_type": "code",
   "execution_count": 2,
   "metadata": {},
   "outputs": [
    {
     "name": "stdout",
     "output_type": "stream",
     "text": [
      "Enter the word : sneak\n",
      "The given word is not a palindrome\n"
     ]
    }
   ],
   "source": [
    "lst1 =input(\"Enter the word : \")\n",
    "\n",
    "lst2 = reversed(lst1)\n",
    "\n",
    "if list(lst1) == list(lst2):\n",
    "    print(\"The given word is a palindrome\")\n",
    "else:\n",
    "    print(\"The given word is not a palindrome\")"
   ]
  },
  {
   "cell_type": "markdown",
   "metadata": {},
   "source": [
    "## To find given number is a Prime number or not"
   ]
  },
  {
   "cell_type": "code",
   "execution_count": 3,
   "metadata": {},
   "outputs": [
    {
     "name": "stdout",
     "output_type": "stream",
     "text": [
      "Enter the number : 25\n",
      "Given number 25 is not Prime\n"
     ]
    }
   ],
   "source": [
    "num= int(input(\"Enter the number : \"))\n",
    "prime = True\n",
    "for i in range(2,num):\n",
    "    if (num % i) == 0:\n",
    "        prime = False\n",
    "        break\n",
    "if prime:\n",
    "    print(\"Given number {} is Prime\".format(num))\n",
    "else:\n",
    "    print(\"Given number {} is not Prime\".format(num))"
   ]
  },
  {
   "cell_type": "markdown",
   "metadata": {},
   "source": [
    "## Check largest of the three numbers"
   ]
  },
  {
   "cell_type": "markdown",
   "metadata": {},
   "source": [
    "### Using loop"
   ]
  },
  {
   "cell_type": "code",
   "execution_count": 4,
   "metadata": {},
   "outputs": [
    {
     "name": "stdout",
     "output_type": "stream",
     "text": [
      "Enter the first number : 15\n",
      "Enter the second number : 15\n",
      "Enter the third number : 25\n",
      "The greatest of the three numbers is 25\n"
     ]
    }
   ],
   "source": [
    "numb1 = int(input(\"Enter the first number : \"))\n",
    "numb2 = int(input(\"Enter the second number : \"))\n",
    "numb3 = int(input(\"Enter the third number : \"))\n",
    "\n",
    "if numb1 > numb2 and numb1 > numb3:\n",
    "    greatest = numb1\n",
    "elif numb2 > numb1 and numb2 > numb3:\n",
    "    greatest = numb2\n",
    "else:\n",
    "    greatest = numb3\n",
    "    \n",
    "print(\"The greatest of the three numbers is\",greatest)"
   ]
  },
  {
   "cell_type": "markdown",
   "metadata": {},
   "source": [
    "### Using function"
   ]
  },
  {
   "cell_type": "code",
   "execution_count": 5,
   "metadata": {},
   "outputs": [
    {
     "name": "stdout",
     "output_type": "stream",
     "text": [
      "The greatest of the given numbers is 89\n"
     ]
    }
   ],
   "source": [
    "def maximum(num1,num2,num3):\n",
    "    if num1>num2 and num1>num3:\n",
    "        return num1\n",
    "    elif num2>num1 and num2>num3:\n",
    "        return num2\n",
    "    else:\n",
    "        return num3\n",
    "        \n",
    "m = maximum(15,89,52)\n",
    "print(\"The greatest of the given numbers is\",m)"
   ]
  },
  {
   "cell_type": "markdown",
   "metadata": {},
   "source": [
    "## Pass and continue statements"
   ]
  },
  {
   "cell_type": "code",
   "execution_count": 6,
   "metadata": {},
   "outputs": [],
   "source": [
    "for i in range(1,8):\n",
    "    pass\n",
    "       #pass means none // without pass program will give an error"
   ]
  },
  {
   "cell_type": "code",
   "execution_count": 7,
   "metadata": {},
   "outputs": [
    {
     "name": "stdout",
     "output_type": "stream",
     "text": [
      "1\n",
      "2\n",
      "3\n",
      "4\n",
      "6\n",
      "7\n",
      "8\n",
      "9\n",
      "10\n",
      "11\n"
     ]
    }
   ],
   "source": [
    "for i in range(1,12):\n",
    "    if i==5:\n",
    "        continue\n",
    "    print(i)\n",
    "   \n"
   ]
  },
  {
   "cell_type": "markdown",
   "metadata": {},
   "source": [
    "## Print 1 to 10 on same line breaking an infinite loop"
   ]
  },
  {
   "cell_type": "code",
   "execution_count": 8,
   "metadata": {},
   "outputs": [
    {
     "name": "stdout",
     "output_type": "stream",
     "text": [
      "1 2 3 4 5 6 7 8 9 10 "
     ]
    }
   ],
   "source": [
    "for i in range(1,20):\n",
    "    if i==11:\n",
    "        break\n",
    "    print( i , end=\" \")"
   ]
  },
  {
   "cell_type": "markdown",
   "metadata": {},
   "source": [
    "## Print all the unique combinations of 1,2 and 3"
   ]
  },
  {
   "cell_type": "code",
   "execution_count": 9,
   "metadata": {},
   "outputs": [
    {
     "name": "stdout",
     "output_type": "stream",
     "text": [
      "(1, 2, 3)\n",
      "(1, 3, 2)\n",
      "(2, 1, 3)\n",
      "(2, 3, 1)\n",
      "(3, 1, 2)\n",
      "(3, 2, 1)\n"
     ]
    }
   ],
   "source": [
    "from itertools import permutations\n",
    "\n",
    "per = permutations([1,2,3])\n",
    "\n",
    "for i in list(per):\n",
    "    print(i)"
   ]
  },
  {
   "cell_type": "markdown",
   "metadata": {},
   "source": [
    "## To find out the sum of the digits of a number"
   ]
  },
  {
   "cell_type": "code",
   "execution_count": 10,
   "metadata": {},
   "outputs": [
    {
     "name": "stdout",
     "output_type": "stream",
     "text": [
      "Enter the number : 1569\n",
      "1\n",
      "5\n",
      "6\n",
      "9\n",
      "Sum of the digits of 1569 is 21\n"
     ]
    }
   ],
   "source": [
    "number = input(\"Enter the number : \")\n",
    "sum = 0\n",
    "for i in list(number):\n",
    "    k= int(i)\n",
    "    sum = sum + k\n",
    "    print(int(i))\n",
    "print(\"Sum of the digits of {} is {}\".format(number,sum))\n",
    "    "
   ]
  },
  {
   "cell_type": "markdown",
   "metadata": {},
   "source": [
    "## WAP to sort the list in descending order\n",
    "### (don't use any inbuilt function)"
   ]
  },
  {
   "cell_type": "code",
   "execution_count": 11,
   "metadata": {},
   "outputs": [
    {
     "name": "stdout",
     "output_type": "stream",
     "text": [
      "[5, 4, 3, 2, 1, 0]\n"
     ]
    }
   ],
   "source": [
    "list_A = [5,3,1,2,4,0]\n",
    "newList = []\n",
    "while list_A:\n",
    "    min = list_A[0]\n",
    "    for x in list_A:\n",
    "        if x<min:\n",
    "            min = x\n",
    "    newList.append(min)\n",
    "    list_A.remove(min)\n",
    "newList.reverse()\n",
    "print(newList)"
   ]
  },
  {
   "cell_type": "markdown",
   "metadata": {},
   "source": [
    "## Remove the numbers that occurs more than once."
   ]
  },
  {
   "cell_type": "markdown",
   "metadata": {},
   "source": [
    "## Shallow and Deep copying Program\n",
    "  "
   ]
  },
  {
   "cell_type": "code",
   "execution_count": 12,
   "metadata": {},
   "outputs": [],
   "source": [
    "import copy\n",
    "li_1 = [1,2,[2,3],4]\n"
   ]
  },
  {
   "cell_type": "markdown",
   "metadata": {},
   "source": [
    "### Shallow Copying"
   ]
  },
  {
   "cell_type": "code",
   "execution_count": 13,
   "metadata": {},
   "outputs": [
    {
     "data": {
      "text/plain": [
       "[1, 2, [2, 3], 4]"
      ]
     },
     "execution_count": 13,
     "metadata": {},
     "output_type": "execute_result"
    }
   ],
   "source": [
    "li1 = copy.copy(li_1)\n",
    "li1"
   ]
  },
  {
   "cell_type": "markdown",
   "metadata": {},
   "source": [
    "### Deep copying"
   ]
  },
  {
   "cell_type": "code",
   "execution_count": 14,
   "metadata": {},
   "outputs": [
    {
     "data": {
      "text/plain": [
       "[1, 2, [2, 3], 4]"
      ]
     },
     "execution_count": 14,
     "metadata": {},
     "output_type": "execute_result"
    }
   ],
   "source": [
    "li2 = copy.deepcopy(li_1)\n",
    "li2"
   ]
  },
  {
   "cell_type": "markdown",
   "metadata": {},
   "source": [
    "##    *WAP to do the following"
   ]
  },
  {
   "cell_type": "markdown",
   "metadata": {},
   "source": [
    "### Creating a list of bank accounts with name alone "
   ]
  },
  {
   "cell_type": "markdown",
   "metadata": {},
   "source": [
    "## Create 3 tuples one of name ,age or salary and group them using zip function.\n",
    "##  Using unpacking operator as well as indexing approach"
   ]
  },
  {
   "cell_type": "code",
   "execution_count": 15,
   "metadata": {},
   "outputs": [
    {
     "name": "stdout",
     "output_type": "stream",
     "text": [
      "{('Priya', 22, 23000), ('Sakshi', 21, 2255546), ('Riya', 20, 23233)}\n"
     ]
    }
   ],
   "source": [
    "name = (\"Sakshi\",\"Priya\",\"Riya\")\n",
    "age = (21,22,20)\n",
    "salary = (2255546,23000,23233)\n",
    "customer = zip(name,age,salary)\n",
    "#print(*customer)\n",
    "print(set(customer))"
   ]
  },
  {
   "cell_type": "markdown",
   "metadata": {},
   "source": [
    "## Using list comprehension and random number generation between 10 to 100"
   ]
  },
  {
   "cell_type": "markdown",
   "metadata": {},
   "source": [
    "### Print Even numbers"
   ]
  },
  {
   "cell_type": "code",
   "execution_count": 16,
   "metadata": {
    "scrolled": true
   },
   "outputs": [
    {
     "name": "stdout",
     "output_type": "stream",
     "text": [
      "The even numbers from the generated random are :  [70, 66, 34, 52, 68, 80, 74, 82, 64, 62, 76, 60, 32, 94, 88, 98, 60, 88, 32, 36, 26, 10, 86, 36, 22, 84, 46, 28, 78, 42, 34, 42, 56, 98, 74, 60, 52, 46, 32, 48, 56, 84, 94, 16, 54, 50, 92, 16, 22, 94, 44]\n"
     ]
    }
   ],
   "source": [
    "import numpy as np\n",
    "my_random = np.random.randint(10,100,90)\n",
    "values = [x for x in my_random if x%2 == 0]\n",
    "print(\"The even numbers from the generated random numbers are : \",values)\n",
    "    "
   ]
  },
  {
   "cell_type": "markdown",
   "metadata": {},
   "source": [
    "### Print Odd numbers"
   ]
  },
  {
   "cell_type": "code",
   "execution_count": 17,
   "metadata": {},
   "outputs": [
    {
     "name": "stdout",
     "output_type": "stream",
     "text": [
      "The odd numbers from the generated random numbers are :  [63, 55, 65, 47, 55, 69, 85, 71, 11, 15, 93, 65, 45, 15, 65, 79, 39, 57, 45, 11, 95, 63, 23, 61, 39, 65, 19, 75, 53, 85, 29, 99, 85, 75, 39, 33, 33, 13, 35, 91, 69, 57, 43, 13, 69, 77, 49]\n"
     ]
    }
   ],
   "source": [
    "import numpy as np\n",
    "random_no = np.random.randint(10,100,90)\n",
    "no_1 = [x for x in random_no if x%2 != 0]\n",
    "print(\"The odd numbers from the generated random numbers are : \",no_1)\n",
    "\n"
   ]
  },
  {
   "cell_type": "markdown",
   "metadata": {},
   "source": [
    "### Print numbers divisible by 3"
   ]
  },
  {
   "cell_type": "code",
   "execution_count": 18,
   "metadata": {},
   "outputs": [
    {
     "name": "stdout",
     "output_type": "stream",
     "text": [
      "The number divisible by 3 are :  [81, 45, 33, 75, 72, 96, 63, 63, 15, 30, 90, 21, 48, 21, 15, 84, 66, 57, 18, 21, 33, 18, 12, 21, 81, 48, 33]\n"
     ]
    }
   ],
   "source": [
    "rand_no = np.random.randint(10,100,90)\n",
    "no_2 = [x for x in rand_no if x%3 == 0]\n",
    "print(\"The number divisible by 3 are : \",no_2)"
   ]
  },
  {
   "cell_type": "markdown",
   "metadata": {},
   "source": [
    "## Two matrices of size 3x3 each, perform the following matrix operations"
   ]
  },
  {
   "cell_type": "markdown",
   "metadata": {},
   "source": [
    "### Matrix Addition"
   ]
  },
  {
   "cell_type": "code",
   "execution_count": 19,
   "metadata": {},
   "outputs": [
    {
     "data": {
      "text/plain": [
       "54"
      ]
     },
     "execution_count": 19,
     "metadata": {},
     "output_type": "execute_result"
    }
   ],
   "source": [
    "import numpy as np\n",
    "mat1 = np.array([[1,2,3],[1,2,3],[1,2,3]])\n",
    "mat2 = np.array([[1,2,3],[1,2,3],[1,2,3]])\n",
    "mat3 = np.array([[1,2,3],[1,2,3],[1,2,3]])\n",
    "np.sum([mat1,mat2,mat3])\n"
   ]
  },
  {
   "cell_type": "markdown",
   "metadata": {},
   "source": [
    "### Matrix subtraction"
   ]
  },
  {
   "cell_type": "code",
   "execution_count": 20,
   "metadata": {},
   "outputs": [
    {
     "data": {
      "text/plain": [
       "array([[-1,  0,  0],\n",
       "       [-1,  0,  0],\n",
       "       [-1,  0,  0]])"
      ]
     },
     "execution_count": 20,
     "metadata": {},
     "output_type": "execute_result"
    }
   ],
   "source": [
    "mat1 = np.array([[1,2,3],[1,2,3],[1,2,3]])\n",
    "mat2 = np.array([[2,2,3],[2,2,3],[2,2,3]])\n",
    "mat3 = np.array([[1,2,3],[1,2,3],[1,2,3]])\n",
    "np.subtract(mat1,mat2,mat3)"
   ]
  },
  {
   "cell_type": "markdown",
   "metadata": {},
   "source": [
    "### Matrix multiplication / dot product"
   ]
  },
  {
   "cell_type": "code",
   "execution_count": 21,
   "metadata": {},
   "outputs": [
    {
     "data": {
      "text/plain": [
       "array([[-7,  0,  0],\n",
       "       [-7,  0,  0],\n",
       "       [-7,  0,  0]])"
      ]
     },
     "execution_count": 21,
     "metadata": {},
     "output_type": "execute_result"
    }
   ],
   "source": [
    "m1 = mat2.dot(mat3)\n",
    "m1"
   ]
  },
  {
   "cell_type": "markdown",
   "metadata": {},
   "source": [
    "### Matrix Transpose"
   ]
  },
  {
   "cell_type": "code",
   "execution_count": 22,
   "metadata": {},
   "outputs": [
    {
     "data": {
      "text/plain": [
       "array([[1, 1, 1],\n",
       "       [2, 2, 2],\n",
       "       [3, 3, 3]])"
      ]
     },
     "execution_count": 22,
     "metadata": {},
     "output_type": "execute_result"
    }
   ],
   "source": [
    "m2 = mat1.transpose()\n",
    "m2"
   ]
  },
  {
   "cell_type": "markdown",
   "metadata": {},
   "source": [
    "## interchange any two rows"
   ]
  },
  {
   "cell_type": "code",
   "execution_count": 23,
   "metadata": {},
   "outputs": [
    {
     "name": "stdout",
     "output_type": "stream",
     "text": [
      "[[9 9 3]\n",
      " [5 7 0]\n",
      " [4 3 1]\n",
      " [8 2 4]]\n"
     ]
    }
   ],
   "source": [
    "a = np.array([[4,3, 1],[5 ,7, 0],[9, 9, 3],[8, 2, 4]]) \n",
    "\n",
    "a[[0, 2]] = a[[2, 0]]\n",
    "print(a)\n"
   ]
  },
  {
   "cell_type": "markdown",
   "metadata": {},
   "source": [
    "## Join tuples if similar initial element"
   ]
  },
  {
   "cell_type": "code",
   "execution_count": 24,
   "metadata": {},
   "outputs": [
    {
     "name": "stdout",
     "output_type": "stream",
     "text": [
      "The original list is : [(5, 6), (5, 7), (6, 8), (6, 10), (7, 13)]\n",
      "The extracted elements : [(5, 6, 7), (6, 8, 10), (7, 13)]\n"
     ]
    }
   ],
   "source": [
    "# Python3 code to demonstrate working of \n",
    "# Join Tuples if similar initial element\n",
    "# Using loop\n",
    "  \n",
    "# initializing list\n",
    "test_list = [(5, 6), (5, 7), (6, 8), (6, 10), (7, 13)]\n",
    "\n",
    "# printing original list\n",
    "print(\"The original list is : \" + str(test_list))\n",
    "\n",
    "# Join Tuples if similar initial element\n",
    "# Using loop\n",
    "res = []\n",
    "for sub in test_list:                                           \n",
    "    if res and res[-1][0] == sub[0]:              \n",
    "        res[-1].extend(sub[1:])                        \n",
    "    else:\n",
    "        res.append([ele for ele in sub])     \n",
    "res = list(map(tuple, res))\n",
    "\n",
    "# printing result \n",
    "print(\"The extracted elements : \" + str(res))"
   ]
  },
  {
   "cell_type": "markdown",
   "metadata": {},
   "source": [
    "## Sort the lists in tuples - eg"
   ]
  },
  {
   "cell_type": "code",
   "execution_count": 25,
   "metadata": {},
   "outputs": [
    {
     "name": "stdout",
     "output_type": "stream",
     "text": [
      "The original tuple is : ([7, 5, 4], [8, 2, 4], [0, 7, 5])\n",
      "The tuple after sorting lists : ([4, 5, 7], [2, 4, 8], [0, 5, 7])\n"
     ]
    }
   ],
   "source": [
    "test_tup = ([7,5,4],[8,2,4],[0,7,5])\n",
    "print (\"The original tuple is : \" +str(test_tup))\n",
    "\n",
    "res = tuple((sorted(sub) for sub in test_tup))\n",
    "print(\"The tuple after sorting lists : \"+ str(res))\n"
   ]
  },
  {
   "cell_type": "markdown",
   "metadata": {},
   "source": [
    "## Given a list,"
   ]
  },
  {
   "cell_type": "markdown",
   "metadata": {},
   "source": [
    "### Find all possible subsets and store them in a list of lists (of length 2^n)"
   ]
  },
  {
   "cell_type": "code",
   "execution_count": 26,
   "metadata": {},
   "outputs": [
    {
     "name": "stdout",
     "output_type": "stream",
     "text": [
      "[]\n",
      "[1]\n",
      "[2]\n",
      "[1, 2]\n",
      "[3]\n",
      "[1, 3]\n",
      "[2, 3]\n",
      "[1, 2, 3]\n"
     ]
    }
   ],
   "source": [
    "### Correct syntax\n",
    "def powersets(s):\n",
    "    x = len(s)\n",
    "    for i in range (1 << x):\n",
    "        print([s[j] for j in range(x) if (i & (1 << j))])\n",
    "powersets([1,2,3])"
   ]
  },
  {
   "cell_type": "code",
   "execution_count": 27,
   "metadata": {},
   "outputs": [],
   "source": [
    "# 2 \n",
    "#from itertools import chain,combinations\n",
    "#def powerset(iterable):\n",
    "#    \"powerset ([1,2,3])--> () (1,) (2,) (3,) (1,2) \"\n",
    "#    s = list(iterable)\n",
    "#   return chain.fromm_iterable(combinations(s,r) for ir in range(1,len(s)+1))"
   ]
  },
  {
   "cell_type": "code",
   "execution_count": 28,
   "metadata": {},
   "outputs": [
    {
     "name": "stdout",
     "output_type": "stream",
     "text": [
      "[(1, 2, 3)]\n"
     ]
    }
   ],
   "source": [
    "# 3\n",
    "import itertools\n",
    "def findsubsets(s,n):\n",
    "    return list(itertools.combinations(s,n))\n",
    "\n",
    "s = [1,2,3]\n",
    "n = len(s)\n",
    "print(findsubsets(s,n))"
   ]
  },
  {
   "cell_type": "markdown",
   "metadata": {},
   "source": [
    "### b) Demonstrate the following\n",
    "#### i) Insert more elements into it\n",
    "#### ii) Find and replace\n",
    "#### iii) Delete individual elements tillthe sublist becomes empty\n",
    "####  iv)Sorting"
   ]
  },
  {
   "cell_type": "markdown",
   "metadata": {},
   "source": [
    "## Given two lists A and B of integers. Sort the lists A and Btogether, with respect to the list A. (Use zip and \"sorted\" for sorting) "
   ]
  },
  {
   "cell_type": "code",
   "execution_count": 29,
   "metadata": {},
   "outputs": [
    {
     "name": "stdout",
     "output_type": "stream",
     "text": [
      "(1, 6) (2, -2) (3, -1)\n"
     ]
    }
   ],
   "source": [
    "A = [1,3,2] \n",
    "B = [6,-2,-1]\n",
    "A = sorted(A)\n",
    "zipping = zip(A,B)\n",
    "print(*zipping)\n",
    "\n",
    "\n"
   ]
  },
  {
   "cell_type": "markdown",
   "metadata": {},
   "source": [
    "## Remove duplicate of string with and without set"
   ]
  },
  {
   "cell_type": "markdown",
   "metadata": {},
   "source": [
    "### With set()"
   ]
  },
  {
   "cell_type": "code",
   "execution_count": 30,
   "metadata": {},
   "outputs": [
    {
     "name": "stdout",
     "output_type": "stream",
     "text": [
      "['H', 'e', 'l', 'o']\n"
     ]
    }
   ],
   "source": [
    "string = \"Hello\"\n",
    "string = sorted(set(string))\n",
    "print(string)"
   ]
  },
  {
   "cell_type": "markdown",
   "metadata": {},
   "source": [
    "### Without set"
   ]
  },
  {
   "cell_type": "code",
   "execution_count": 31,
   "metadata": {},
   "outputs": [
    {
     "name": "stdout",
     "output_type": "stream",
     "text": [
      "List Before  ['h', 'e', 'l', 'l', 'o', ' ', 'h', 'e', 'y']\n",
      "List After removing duplicates ['h', 'e', 'l', 'o', ' ', 'y']\n"
     ]
    }
   ],
   "source": [
    "my_string = \"hello hey\"\n",
    "my_string = list(my_string)\n",
    "print(\"List Before \", my_string)\n",
    "temp_list = []\n",
    "\n",
    "for i in my_string:\n",
    "    if i not in temp_list:\n",
    "        temp_list.append(i)\n",
    "\n",
    "my_string = temp_list\n",
    "\n",
    "print(\"List After removing duplicates \" +str(my_string))"
   ]
  },
  {
   "cell_type": "markdown",
   "metadata": {},
   "source": [
    "## for a dictionary, arrange them in the alphabetical order of the keys,insert afew key:value pair 1)the alphabetical order of keys 2)sort using \"values\""
   ]
  },
  {
   "cell_type": "code",
   "execution_count": 32,
   "metadata": {},
   "outputs": [
    {
     "name": "stdout",
     "output_type": "stream",
     "text": [
      "['Age', 'Sakshi', 'Salary']\n",
      "[12, 21, 2000000]\n"
     ]
    }
   ],
   "source": [
    "diction = {\"Sakshi\":12,\"Age\":21}\n",
    "diction.update({\"Salary\":2000000})\n",
    "print(sorted(diction))\n",
    "print(sorted(diction.values()))\n"
   ]
  },
  {
   "cell_type": "markdown",
   "metadata": {},
   "source": [
    "## *Make a grade sheet"
   ]
  },
  {
   "cell_type": "markdown",
   "metadata": {},
   "source": [
    "## *Nested Dictionary"
   ]
  },
  {
   "cell_type": "markdown",
   "metadata": {},
   "source": [
    "### Without description"
   ]
  },
  {
   "cell_type": "code",
   "execution_count": 33,
   "metadata": {},
   "outputs": [
    {
     "name": "stdout",
     "output_type": "stream",
     "text": [
      "The sorted dictionary : {1: {'Name': 'HeMan', 'Gender': 'Male'}, 2: {'Gender': 'Female', 'Name': 'Sakshi'}}\n"
     ]
    }
   ],
   "source": [
    "students_dict = { 1:{\"Name\": \"HeMan\",\"Gender\": \"Male\"},\n",
    "           2: {\"Name\": \"Sakshi\",\"Gender\": \"Female\"}}\n",
    "res = {key : dict(sorted(val.items(), key = lambda ele: ele[1]))\n",
    "       for key, val in students_dict.items()}\n",
    "print(\"The sorted dictionary : \" + str(res))\n"
   ]
  },
  {
   "cell_type": "markdown",
   "metadata": {},
   "source": [
    "### With description"
   ]
  },
  {
   "cell_type": "code",
   "execution_count": 34,
   "metadata": {},
   "outputs": [
    {
     "name": "stdout",
     "output_type": "stream",
     "text": [
      "The original dictionary : {'Nikhil': {'English': 5, 'Maths': 2, 'Science': 14}, 'Akash': {'English': 15, 'Maths': 7, 'Science': 2}, 'Akshat': {'English': 5, 'Maths': 50, 'Science': 20}}\n",
      "The sorted dictionary : {'Nikhil': {'Maths': 2, 'English': 5, 'Science': 14}, 'Akash': {'Science': 2, 'Maths': 7, 'English': 15}, 'Akshat': {'English': 5, 'Science': 20, 'Maths': 50}}\n"
     ]
    }
   ],
   "source": [
    "# Python3 code to demonstrate working of \n",
    "# Sort Nested keys by Value\n",
    "# Using sorted() + generator expression + lamda\n",
    "  \n",
    "# initializing dictionary\n",
    "test_dict = {'Nikhil' : {'English' : 5, 'Maths' :  2, 'Science' : 14},\n",
    "             'Akash' : {'English' : 15, 'Maths' :  7, 'Science' : 2},\n",
    "             'Akshat' : {'English' : 5, 'Maths' :  50, 'Science' : 20}}\n",
    "  \n",
    "# printing original dictionary\n",
    "print(\"The original dictionary : \" + str(test_dict))\n",
    "  \n",
    "# Sort Nested keys by Value\n",
    "# Using sorted() + generator expression + lamda\n",
    "res = {key : dict(sorted(val.items(), key = lambda ele: ele[1]))\n",
    "       for key, val in test_dict.items()}\n",
    "      \n",
    "# printing result \n",
    "print(\"The sorted dictionary : \" + str(res)) "
   ]
  },
  {
   "cell_type": "markdown",
   "metadata": {},
   "source": [
    "## Find even or odd"
   ]
  },
  {
   "cell_type": "code",
   "execution_count": 35,
   "metadata": {},
   "outputs": [
    {
     "name": "stdout",
     "output_type": "stream",
     "text": [
      "Please enter a number : 25\n",
      "The given number is odd\n"
     ]
    }
   ],
   "source": [
    "n = int(input(\"Please enter a number : \"))\n",
    "if n%2 == 0:\n",
    "    print(\"The given number is even\")\n",
    "else:\n",
    "    print(\"The given number is odd\")"
   ]
  },
  {
   "cell_type": "markdown",
   "metadata": {},
   "source": [
    "## no.of vowels and consonants "
   ]
  },
  {
   "cell_type": "code",
   "execution_count": 36,
   "metadata": {},
   "outputs": [
    {
     "name": "stdout",
     "output_type": "stream",
     "text": [
      "Please enter a word : handsome\n",
      "The number of vowels in the given word :  3\n",
      "The number of consonants in the given word :  5\n"
     ]
    }
   ],
   "source": [
    "str1 = input(\"Please enter a word : \")\n",
    "vowels = 0\n",
    "consonants = 0\n",
    "for i in str1:\n",
    "    if i == \"a\" or i==\"e\" or i==\"i\" or i==\"o\" or i==\"u\" or i==\"A\" or i==\"E\" or i==\"I\" or i == \"O\" or i==\"U\":\n",
    "        vowels = vowels + 1\n",
    "    else:\n",
    "        consonants +=1\n",
    "print(\"The number of vowels in the given word : \",vowels)\n",
    "print(\"The number of consonants in the given word : \",consonants)"
   ]
  },
  {
   "cell_type": "markdown",
   "metadata": {},
   "source": [
    "## *Program to find given matrix is symmetric or not"
   ]
  },
  {
   "cell_type": "code",
   "execution_count": 37,
   "metadata": {},
   "outputs": [
    {
     "name": "stdout",
     "output_type": "stream",
     "text": [
      "Given matrix : \n",
      "[[1, 2, 3], [3, 4, 5], [6, 7, 8]]\n",
      "Given matrix is not symmetric\n"
     ]
    }
   ],
   "source": [
    "def symmetric(a,n1):\n",
    "    for i in range(n1):\n",
    "        for j in range(n1):\n",
    "            if (a[i][j]) != (a[j][i]):\n",
    "                return False\n",
    "    return True\n",
    "\n",
    "a = [[1,2,3],[3,4,5],[6,7,8]]\n",
    "print(\"Given matrix : \")\n",
    "print(a)\n",
    "\n",
    "if (symmetric(a,3)):\n",
    "    print(\"Given matrix is symmetric\")\n",
    "else:\n",
    "    print(\"Given matrix is not symmetric\")\n",
    "            \n",
    "            "
   ]
  },
  {
   "cell_type": "markdown",
   "metadata": {},
   "source": [
    "## Use filter and lambda to find all the ages greater than or equal to 18."
   ]
  },
  {
   "cell_type": "code",
   "execution_count": 38,
   "metadata": {},
   "outputs": [
    {
     "name": "stdout",
     "output_type": "stream",
     "text": [
      "[81, 23, 19, 91, 25, 55, 41, 49, 60, 18, 32, 65]\n"
     ]
    }
   ],
   "source": [
    "ages = [81,23,10,19,91,25,55,41,49,60,18,32,65,10,12,13,1,2,3]\n",
    "greater_= list(filter((lambda x : x >= 18),ages))\n",
    "print(greater_)"
   ]
  },
  {
   "cell_type": "markdown",
   "metadata": {},
   "source": [
    "## Map and reduce"
   ]
  },
  {
   "cell_type": "markdown",
   "metadata": {},
   "source": [
    "### Map"
   ]
  },
  {
   "cell_type": "code",
   "execution_count": 39,
   "metadata": {},
   "outputs": [
    {
     "name": "stdout",
     "output_type": "stream",
     "text": [
      "[True, True, False, True, True, True, True, True, True, True, True, True, True, False, False, False, False, False, False]\n"
     ]
    }
   ],
   "source": [
    "ages = [81,23,10,19,91,25,55,41,49,60,18,32,65,10,12,13,1,2,3]\n",
    "greater_= list(map((lambda x : x >= 18),ages))\n",
    "print(greater_)"
   ]
  },
  {
   "cell_type": "markdown",
   "metadata": {},
   "source": [
    "### Reduce"
   ]
  },
  {
   "cell_type": "code",
   "execution_count": 40,
   "metadata": {},
   "outputs": [
    {
     "name": "stdout",
     "output_type": "stream",
     "text": [
      "610\n"
     ]
    }
   ],
   "source": [
    "from functools import reduce\n",
    "ages = [81,23,10,19,91,25,55,41,49,60,18,32,65,10,12,13,1,2,3]\n",
    "greater_=reduce((lambda x,y : x + y),ages)\n",
    "print(greater_)"
   ]
  },
  {
   "cell_type": "code",
   "execution_count": null,
   "metadata": {},
   "outputs": [],
   "source": []
  }
 ],
 "metadata": {
  "kernelspec": {
   "display_name": "Python 3",
   "language": "python",
   "name": "python3"
  },
  "language_info": {
   "codemirror_mode": {
    "name": "ipython",
    "version": 3
   },
   "file_extension": ".py",
   "mimetype": "text/x-python",
   "name": "python",
   "nbconvert_exporter": "python",
   "pygments_lexer": "ipython3",
   "version": "3.6.5"
  },
  "toc": {
   "base_numbering": 1,
   "nav_menu": {},
   "number_sections": true,
   "sideBar": true,
   "skip_h1_title": false,
   "title_cell": "Table of Contents",
   "title_sidebar": "Contents",
   "toc_cell": false,
   "toc_position": {
    "height": "calc(100% - 180px)",
    "left": "10px",
    "top": "150px",
    "width": "383.797px"
   },
   "toc_section_display": true,
   "toc_window_display": true
  }
 },
 "nbformat": 4,
 "nbformat_minor": 5
}
